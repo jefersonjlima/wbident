{
 "cells": [
  {
   "cell_type": "code",
   "execution_count": null,
   "metadata": {},
   "outputs": [],
   "source": [
    "import sys\n",
    "import torch\n",
    "import numpy as np\n",
    "sys.path.append('../')\n",
    "from wbident import PSO, Model\n",
    "import matplotlib.pyplot as plt"
   ]
  },
  {
   "cell_type": "code",
   "execution_count": null,
   "metadata": {},
   "outputs": [],
   "source": [
    "class EqSystem(Model):\n",
    "    def __init__(self, params=None):\n",
    "        super(EqSystem, self).__init__(params)\n",
    "        self._params = params\n",
    "\n",
    "    def model(self, t, x):\n",
    "        k = self.unknown_const\n",
    "        ks   = k[0]\n",
    "        c    = k[1]\n",
    "        # m    = k[2]\n",
    "        wn   = np.sqrt(k[0]/2)\n",
    "        zeta = k[1]/(2*2*wn)\n",
    "\n",
    "        dx = torch.zeros(len(self.x0),)\n",
    "        dx[0] = x[1]\n",
    "        dx[1] = -2 * zeta * wn * x[1] - wn ** 2 * x[0] + 10*np.sin(2*np.pi*1)\n",
    "        return dx\n",
    ""
   ]
  },
  {
   "cell_type": "code",
   "execution_count": null,
   "metadata": {},
   "outputs": [],
   "source": [
    " params = {'optmizer': {'lowBound': [0.5, 0.5],\n",
    "                            'upBound': [255, 10],\n",
    "                            'maxVelocity': 5, \n",
    "                            'minVelocity': -5,\n",
    "                            'nPop': 10,\n",
    "                            'nVar': 2,\n",
    "                            'social_weight': 2,\n",
    "                            'cognitive_weight': 2,\n",
    "                            'w': 0.9,\n",
    "                            'w_damping': 0.99},\n",
    "                'dyn_system': {'model_path': 'tests/data.mat',\n",
    "                                'x0': [0., 1.],\n",
    "                                't': [0,6,100]\n",
    "                                }\n",
    "                }"
   ]
  },
  {
   "cell_type": "code",
   "execution_count": null,
   "metadata": {},
   "outputs": [],
   "source": [
    "f_fit = EqSystem(params)\n",
    "k = torch.tensor([120,5])\n",
    "f_fit.y_true = f_fit.simulation(k)\n",
    "pso = PSO(f_fit, params)\n",
    "cost = []\n",
    "\n",
    "\n",
    "for i in range(100):\n",
    "    print(f'interation {i}, error {pso.pbg_cost},{pso.pbg_position}')\n",
    "    pso.run()\n",
    "    "
   ]
  },
  {
   "cell_type": "code",
   "execution_count": null,
   "metadata": {},
   "outputs": [],
   "source": []
  }
 ],
 "metadata": {
  "kernelspec": {
   "display_name": "Python 3.6.9 64-bit",
   "language": "python",
   "name": "python36964bitb2bcd42e79924756b7adb08ef88564a1"
  },
  "language_info": {
   "codemirror_mode": {
    "name": "ipython",
    "version": 3
   },
   "file_extension": ".py",
   "mimetype": "text/x-python",
   "name": "python",
   "nbconvert_exporter": "python",
   "pygments_lexer": "ipython3",
   "version": "3.6.9-final"
  }
 },
 "nbformat": 4,
 "nbformat_minor": 4
}